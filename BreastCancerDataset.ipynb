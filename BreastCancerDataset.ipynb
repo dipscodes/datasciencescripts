{
 "cells": [
  {
   "cell_type": "code",
   "execution_count": 5,
   "metadata": {},
   "outputs": [],
   "source": [
    "import pandas as pd\n",
    "from sklearn.model_selection import train_test_split\n",
    "from sklearn.svm import SVC\n",
    "from sklearn.metrics import classification_report, accuracy_score\n",
    "from sklearn.preprocessing import StandardScaler\n"
   ]
  },
  {
   "cell_type": "code",
   "execution_count": 6,
   "metadata": {},
   "outputs": [
    {
     "name": "stdout",
     "output_type": "stream",
     "text": [
      "         ID Diagnosis  MeanRadius  MeanTexture  MeanPerimeter  MeanArea  \\\n",
      "0    842302         M       17.99        10.38         122.80    1001.0   \n",
      "1    842517         M       20.57        17.77         132.90    1326.0   \n",
      "2  84300903         M       19.69        21.25         130.00    1203.0   \n",
      "3  84348301         M       11.42        20.38          77.58     386.1   \n",
      "4  84358402         M       20.29        14.34         135.10    1297.0   \n",
      "\n",
      "   MeanSmoothness  MeanCompactness  MeanConcavity  MeanConcavePoints  ...  \\\n",
      "0         0.11840          0.27760         0.3001            0.14710  ...   \n",
      "1         0.08474          0.07864         0.0869            0.07017  ...   \n",
      "2         0.10960          0.15990         0.1974            0.12790  ...   \n",
      "3         0.14250          0.28390         0.2414            0.10520  ...   \n",
      "4         0.10030          0.13280         0.1980            0.10430  ...   \n",
      "\n",
      "   WorstRadius  WorstTexture  WorstPerimeter  WorstArea  WorstSmoothness  \\\n",
      "0        25.38         17.33          184.60     2019.0           0.1622   \n",
      "1        24.99         23.41          158.80     1956.0           0.1238   \n",
      "2        23.57         25.53          152.50     1709.0           0.1444   \n",
      "3        14.91         26.50           98.87      567.7           0.2098   \n",
      "4        22.54         16.67          152.20     1575.0           0.1374   \n",
      "\n",
      "   WorstCompactness  WorstConcavity  WorstConcavePoints  WorstSymmetry  \\\n",
      "0            0.6656          0.7119              0.2654         0.4601   \n",
      "1            0.1866          0.2416              0.1860         0.2750   \n",
      "2            0.4245          0.4504              0.2430         0.3613   \n",
      "3            0.8663          0.6869              0.2575         0.6638   \n",
      "4            0.2050          0.4000              0.1625         0.2364   \n",
      "\n",
      "   WorstFractalDimension  \n",
      "0                0.11890  \n",
      "1                0.08902  \n",
      "2                0.08758  \n",
      "3                0.17300  \n",
      "4                0.07678  \n",
      "\n",
      "[5 rows x 32 columns]\n"
     ]
    }
   ],
   "source": [
    "# Load the dataset\n",
    "url = \"https://archive.ics.uci.edu/ml/machine-learning-databases/breast-cancer-wisconsin/wdbc.data\"\n",
    "column_names = [\"ID\", \"Diagnosis\", \"MeanRadius\", \"MeanTexture\", \"MeanPerimeter\", \"MeanArea\", \"MeanSmoothness\", \"MeanCompactness\", \"MeanConcavity\", \"MeanConcavePoints\", \"MeanSymmetry\", \"MeanFractalDimension\", \"SERadius\", \"SETexture\", \"SEPerimeter\", \"SEArea\", \"SESmoothness\", \"SECompactness\", \"SEConcavity\", \"SEConcavePoints\", \"SESymmetry\", \"SEFractalDimension\", \"WorstRadius\", \"WorstTexture\", \"WorstPerimeter\", \"WorstArea\", \"WorstSmoothness\", \"WorstCompactness\", \"WorstConcavity\", \"WorstConcavePoints\", \"WorstSymmetry\", \"WorstFractalDimension\"]\n",
    "breast_cancer_data = pd.read_csv(url, names=column_names)\n",
    "\n",
    "# Display the first few rows of the dataset\n",
    "print(breast_cancer_data.head())"
   ]
  },
  {
   "cell_type": "code",
   "execution_count": 7,
   "metadata": {},
   "outputs": [],
   "source": [
    "# Separate the features and the target variable\n",
    "X = breast_cancer_data.drop([\"ID\", \"Diagnosis\"], axis=1)\n",
    "y = breast_cancer_data[\"Diagnosis\"]\n",
    "\n",
    "# Scale the features\n",
    "scaler = StandardScaler()\n",
    "X_scaled = scaler.fit_transform(X)\n",
    "\n",
    "# Split the dataset into training and testing sets\n",
    "X_train, X_test, y_train, y_test = train_test_split(X_scaled, y, test_size=0.2, random_state=42)\n"
   ]
  },
  {
   "cell_type": "code",
   "execution_count": 8,
   "metadata": {},
   "outputs": [
    {
     "name": "stdout",
     "output_type": "stream",
     "text": [
      "Classification Report:\n",
      "              precision    recall  f1-score   support\n",
      "\n",
      "           B       0.97      0.99      0.98        71\n",
      "           M       0.98      0.95      0.96        43\n",
      "\n",
      "    accuracy                           0.97       114\n",
      "   macro avg       0.97      0.97      0.97       114\n",
      "weighted avg       0.97      0.97      0.97       114\n",
      "\n",
      "Accuracy: 0.9736842105263158\n"
     ]
    }
   ],
   "source": [
    "# Create an SVM classifier\n",
    "model = SVC(random_state=42)\n",
    "\n",
    "# Train the model\n",
    "model.fit(X_train, y_train)\n",
    "\n",
    "# Make predictions on the testing data\n",
    "y_pred = model.predict(X_test)\n",
    "\n",
    "# Evaluate the model's performance\n",
    "print(\"Classification Report:\")\n",
    "print(classification_report(y_test, y_pred))\n",
    "print(\"Accuracy:\", accuracy_score(y_test, y_pred))\n"
   ]
  }
 ],
 "metadata": {
  "kernelspec": {
   "display_name": "Python 3",
   "language": "python",
   "name": "python3"
  },
  "language_info": {
   "codemirror_mode": {
    "name": "ipython",
    "version": 3
   },
   "file_extension": ".py",
   "mimetype": "text/x-python",
   "name": "python",
   "nbconvert_exporter": "python",
   "pygments_lexer": "ipython3",
   "version": "3.11.3"
  },
  "orig_nbformat": 4
 },
 "nbformat": 4,
 "nbformat_minor": 2
}
